{
 "cells": [
  {
   "cell_type": "code",
   "execution_count": 6,
   "metadata": {},
   "outputs": [],
   "source": [
    "import random\n",
    "import csv\n",
    "import time\n",
    "from scipy.stats import expon\n",
    "import numpy as np\n",
    "from simulation import generate_population, inverse_mapping, update_healthy_state, terminate, update_state\n",
    "import matplotlib.pyplot as plt"
   ]
  },
  {
   "cell_type": "code",
   "execution_count": 61,
   "metadata": {},
   "outputs": [],
   "source": [
    "def simulate(S, T):\n",
    "    population = generate_population(S)\n",
    "    grid = inverse_mapping(population)\n",
    "    break_t = T\n",
    "    death = 0\n",
    "    total_infection = 0\n",
    "    max_infection = 0\n",
    "    t_max_inf = 0\n",
    "    for t in range(T):\n",
    "        current_inf = sum([1 for i in population if i.infection])\n",
    "        if current_inf > max_infection:\n",
    "            t_max_inf = t\n",
    "            max_infection = current_inf\n",
    "        population = update_healthy_state(population)\n",
    "        if terminate(population):\n",
    "            break_t = t\n",
    "            break\n",
    "        update_state(population, grid)\n",
    "    death = 1000 - len(population)\n",
    "    total_infection = death + sum([1 for i in population if i.infection or i.immunity])\n",
    "    return break_t, death, total_infection, max_infection, t_max_inf"
   ]
  },
  {
   "cell_type": "code",
   "execution_count": 4,
   "metadata": {},
   "outputs": [
    {
     "name": "stdout",
     "output_type": "stream",
     "text": [
      "[0.0, 0.25, 0.5, 0.75, 1.0]\n"
     ]
    }
   ],
   "source": [
    "R = 10000\n",
    "M = 1000\n",
    "T = 500\n",
    "S_interval = 0.25\n",
    "S_list = [i*S_interval for i in range(int((1+S_interval)/S_interval))]\n",
    "print(S_list)"
   ]
  },
  {
   "cell_type": "code",
   "execution_count": 63,
   "metadata": {},
   "outputs": [
    {
     "name": "stdout",
     "output_type": "stream",
     "text": [
      "0\n",
      "cost time for S=0.00 11.63\n",
      "0\n",
      "cost time for S=0.25 5.64\n",
      "0\n",
      "cost time for S=0.50 1.48\n",
      "0\n",
      "cost time for S=0.75 0.50\n",
      "0\n",
      "cost time for S=1.00 0.88\n"
     ]
    }
   ],
   "source": [
    "for S in S_list:\n",
    "    with open(\"result_%.2f.csv\" % S,\"w\") as csvfile: \n",
    "        writer = csv.writer(csvfile)\n",
    "        writer.writerow([\"break_t\", \"death rate\",\"total infection rate\",\"max infection rate\", \"t max infection\"])\n",
    "        st = time.time()\n",
    "        for run in range(R):\n",
    "            break_t, death, total_infection, max_infection, t_max_inf = simulate(S, T)\n",
    "            death_rate, total_infection_rate, max_infection_rate = death/M, total_infection/M, max_infection/M\n",
    "            writer.writerow([break_t, death_rate, total_infection_rate, max_infection_rate, t_max_inf])\n",
    "            if not run % 50:\n",
    "                print(run)\n",
    "    print(\"cost time for S=%.2f %.2f\" % (S, time.time() - st))"
   ]
  },
  {
   "cell_type": "code",
   "execution_count": 21,
   "metadata": {},
   "outputs": [],
   "source": [
    "def print_his(values, name, S, test=None):\n",
    "    plt.rcParams['figure.dpi'] = 300\n",
    "    num_bins = 100\n",
    "    ax = plt.axes()\n",
    "    values, base, patches = plt.hist(values, num_bins)\n",
    "    if test:\n",
    "        x_label = name + ' when S = %.2f' % S + ' with testing rate = %.2f' % test\n",
    "    else:\n",
    "        x_label = name + ' when S = %.2f' % S\n",
    "    plt.xlabel(x_label)\n",
    "    plt.ylabel('Count')\n",
    "    ax_bis = ax.twinx()\n",
    "    values = np.append(values, 0)\n",
    "    ax_bis.plot(base, np.cumsum(values)/ np.cumsum(values)[-1], color='darkorange', marker='o', linestyle='-', markersize = 1, label = \"Cumulative Histogram\" )\n",
    "    plt.ylabel(\"Cumulative probability\")\n",
    "#     plt.show()\n",
    "    plt.savefig(x_label + '.png', dpi=300)\n",
    "    plt.clf()"
   ]
  },
  {
   "cell_type": "code",
   "execution_count": 25,
   "metadata": {},
   "outputs": [],
   "source": [
    "def print_statistics(values, name, S, test=None):\n",
    "    if test:\n",
    "        print(\"Average \" + name + \" is %.4f\" % np.average(values) + ' when S = %.2f' % S + ' with testing rate = %.2f' % test)\n",
    "    else:\n",
    "        print(\"Average \" + name + \" is %.4f\" % np.average(values) + ' when S = %.2f' % S)\n",
    "    return np.average(values)"
   ]
  },
  {
   "cell_type": "code",
   "execution_count": 22,
   "metadata": {},
   "outputs": [
    {
     "name": "stdout",
     "output_type": "stream",
     "text": [
      "Average Death rate is 0.0314 when S = 0.00 with testing rate = 0.01\n",
      "Average Break t is 429.3365 when S = 0.00 with testing rate = 0.01\n",
      "Average Total infection rate is 0.6326 when S = 0.00 with testing rate = 0.01\n",
      "Average Max infection rate is 0.0443 when S = 0.00 with testing rate = 0.01\n",
      "Average t max infection is 61.0216 when S = 0.00 with testing rate = 0.01\n",
      "Average Death rate is 0.0099 when S = 0.00 with testing rate = 0.05\n",
      "Average Break t is 183.6682 when S = 0.00 with testing rate = 0.05\n",
      "Average Total infection rate is 0.1999 when S = 0.00 with testing rate = 0.05\n",
      "Average Max infection rate is 0.0246 when S = 0.00 with testing rate = 0.05\n",
      "Average t max infection is 36.7755 when S = 0.00 with testing rate = 0.05\n",
      "Average Death rate is 0.0020 when S = 0.00 with testing rate = 0.10\n",
      "Average Break t is 48.2816 when S = 0.00 with testing rate = 0.10\n",
      "Average Total infection rate is 0.0408 when S = 0.00 with testing rate = 0.10\n",
      "Average Max infection rate is 0.0170 when S = 0.00 with testing rate = 0.10\n",
      "Average t max infection is 11.0540 when S = 0.00 with testing rate = 0.10\n",
      "Average Death rate is 0.0102 when S = 0.25 with testing rate = 0.01\n",
      "Average Break t is 204.9675 when S = 0.25 with testing rate = 0.01\n",
      "Average Total infection rate is 0.2052 when S = 0.25 with testing rate = 0.01\n",
      "Average Max infection rate is 0.0233 when S = 0.25 with testing rate = 0.01\n",
      "Average t max infection is 42.0069 when S = 0.25 with testing rate = 0.01\n",
      "Average Death rate is 0.0026 when S = 0.25 with testing rate = 0.05\n",
      "Average Break t is 63.7564 when S = 0.25 with testing rate = 0.05\n",
      "Average Total infection rate is 0.0514 when S = 0.25 with testing rate = 0.05\n",
      "Average Max infection rate is 0.0168 when S = 0.25 with testing rate = 0.05\n",
      "Average t max infection is 13.6992 when S = 0.25 with testing rate = 0.05\n",
      "Average Death rate is 0.0011 when S = 0.25 with testing rate = 0.10\n",
      "Average Break t is 30.4231 when S = 0.25 with testing rate = 0.10\n",
      "Average Total infection rate is 0.0221 when S = 0.25 with testing rate = 0.10\n",
      "Average Max infection rate is 0.0139 when S = 0.25 with testing rate = 0.10\n",
      "Average t max infection is 7.7169 when S = 0.25 with testing rate = 0.10\n",
      "Average Death rate is 0.0018 when S = 0.50 with testing rate = 0.01\n",
      "Average Break t is 51.0483 when S = 0.50 with testing rate = 0.01\n",
      "Average Total infection rate is 0.0354 when S = 0.50 with testing rate = 0.01\n",
      "Average Max infection rate is 0.0144 when S = 0.50 with testing rate = 0.01\n",
      "Average t max infection is 10.8375 when S = 0.50 with testing rate = 0.01\n",
      "Average Death rate is 0.0010 when S = 0.50 with testing rate = 0.05\n",
      "Average Break t is 30.5868 when S = 0.50 with testing rate = 0.05\n",
      "Average Total infection rate is 0.0202 when S = 0.50 with testing rate = 0.05\n",
      "Average Max infection rate is 0.0129 when S = 0.50 with testing rate = 0.05\n",
      "Average t max infection is 7.3165 when S = 0.50 with testing rate = 0.05\n",
      "Average Death rate is 0.0007 when S = 0.50 with testing rate = 0.10\n",
      "Average Break t is 22.1528 when S = 0.50 with testing rate = 0.10\n",
      "Average Total infection rate is 0.0146 when S = 0.50 with testing rate = 0.10\n",
      "Average Max infection rate is 0.0117 when S = 0.50 with testing rate = 0.10\n",
      "Average t max infection is 6.1727 when S = 0.50 with testing rate = 0.10\n",
      "Average Death rate is 0.0007 when S = 0.75 with testing rate = 0.01\n",
      "Average Break t is 23.2186 when S = 0.75 with testing rate = 0.01\n",
      "Average Total infection rate is 0.0138 when S = 0.75 with testing rate = 0.01\n",
      "Average Max infection rate is 0.0108 when S = 0.75 with testing rate = 0.01\n",
      "Average t max infection is 5.9174 when S = 0.75 with testing rate = 0.01\n",
      "Average Death rate is 0.0006 when S = 0.75 with testing rate = 0.05\n",
      "Average Break t is 19.0925 when S = 0.75 with testing rate = 0.05\n",
      "Average Total infection rate is 0.0117 when S = 0.75 with testing rate = 0.05\n",
      "Average Max infection rate is 0.0102 when S = 0.75 with testing rate = 0.05\n",
      "Average t max infection is 5.1142 when S = 0.75 with testing rate = 0.05\n",
      "Average Death rate is 0.0005 when S = 0.75 with testing rate = 0.10\n",
      "Average Break t is 16.0654 when S = 0.75 with testing rate = 0.10\n",
      "Average Total infection rate is 0.0104 when S = 0.75 with testing rate = 0.10\n",
      "Average Max infection rate is 0.0097 when S = 0.75 with testing rate = 0.10\n",
      "Average t max infection is 4.2141 when S = 0.75 with testing rate = 0.10\n"
     ]
    },
    {
     "data": {
      "text/plain": [
       "<Figure size 1800x1200 with 0 Axes>"
      ]
     },
     "metadata": {},
     "output_type": "display_data"
    }
   ],
   "source": [
    "for S in [0, 0.25, 0.5, 0.75]:\n",
    "    for test in [0.01, 0.05, 0.1]:\n",
    "        break_ts, death_rates, total_infection_rates, max_infection_rates, t_max_infs = [], [], [], [], []\n",
    "        with open(\"result_%.2f_%.2f.csv\" % (S, test),\"r\") as csvfile:\n",
    "            csv_read = csv.DictReader(csvfile)\n",
    "            for line in csv_read:\n",
    "                break_ts.append(float(line['break_t']))\n",
    "                death_rates.append(float(line['death rate']))\n",
    "                total_infection_rates.append(float(line['total infection rate']))\n",
    "                max_infection_rates.append(float(line['max infection rate']))\n",
    "                t_max_infs.append(float(line['t max infection']))\n",
    "        print_his(death_rates, \"Death rate\", S, test)\n",
    "        print_his(total_infection_rates, \"Total infection rate\", S, test)\n",
    "        print_his(max_infection_rates, \"Max infection rate\", S, test)\n",
    "        print_statistics(death_rates, \"Death rate\", S, test)\n",
    "        print_statistics(break_ts, \"Break t\", S, test)\n",
    "        print_statistics(total_infection_rates, \"Total infection rate\", S, test)\n",
    "        print_statistics(max_infection_rates, \"Max infection rate\", S, test)\n",
    "        print_statistics(t_max_infs, \"t max infection\", S, test)\n",
    "    "
   ]
  },
  {
   "cell_type": "code",
   "execution_count": 26,
   "metadata": {},
   "outputs": [
    {
     "name": "stdout",
     "output_type": "stream",
     "text": [
      "Average Death rate is 0.0362 when S = 0.00\n",
      "Average Break t is 454.8314 when S = 0.00\n",
      "Average Total infection rate is 0.7259 when S = 0.00\n",
      "Average Max infection rate is 0.0520 when S = 0.00\n",
      "Average t max infection is 59.2217 when S = 0.00\n",
      "Average Death rate is 0.0145 when S = 0.25\n",
      "Average Break t is 269.0856 when S = 0.25\n",
      "Average Total infection rate is 0.2919 when S = 0.25\n",
      "Average Max infection rate is 0.0267 when S = 0.25\n",
      "Average t max infection is 52.4791 when S = 0.25\n",
      "Average Death rate is 0.0022 when S = 0.50\n",
      "Average Break t is 62.4268 when S = 0.50\n",
      "Average Total infection rate is 0.0444 when S = 0.50\n",
      "Average Max infection rate is 0.0150 when S = 0.50\n",
      "Average t max infection is 13.1760 when S = 0.50\n",
      "Average Death rate is 0.0007 when S = 0.75\n",
      "Average Break t is 24.4654 when S = 0.75\n",
      "Average Total infection rate is 0.0144 when S = 0.75\n",
      "Average Max infection rate is 0.0109 when S = 0.75\n",
      "Average t max infection is 6.0494 when S = 0.75\n",
      "Average Death rate is 0.0004 when S = 1.00\n",
      "Average Break t is 10.7184 when S = 1.00\n",
      "Average Total infection rate is 0.0080 when S = 1.00\n",
      "Average Max infection rate is 0.0080 when S = 1.00\n",
      "Average t max infection is 0.0000 when S = 1.00\n"
     ]
    }
   ],
   "source": [
    "avg_death_rates = []\n",
    "avg_break_ts = []\n",
    "avg_total_infection_rates = []\n",
    "avg_max_infection_rats = []\n",
    "avg_t_max_infs = []\n",
    "for S in [0, 0.25, 0.5, 0.75, 1]:\n",
    "    break_ts, death_rates, total_infection_rates, max_infection_rates, t_max_infs = [], [], [], [], []\n",
    "    with open(\"result_%.2f.csv\" % S,\"r\") as csvfile:\n",
    "        csv_read = csv.DictReader(csvfile)\n",
    "        for line in csv_read:\n",
    "            break_ts.append(float(line['break_t']))\n",
    "            death_rates.append(float(line['death rate']))\n",
    "            total_infection_rates.append(float(line['total infection rate']))\n",
    "            max_infection_rates.append(float(line['max infection rate']))\n",
    "            t_max_infs.append(float(line['t max infection']))\n",
    "#     print_his(death_rates, \"Death rate\", S)\n",
    "#     print_his(total_infection_rates, \"Total infection rate\", S)\n",
    "#     print_his(max_infection_rates, \"Max infection rate\", S)\n",
    "    avg_death_rates.append(print_statistics(death_rates, \"Death rate\", S))\n",
    "    avg_break_ts.append(print_statistics(break_ts, \"Break t\", S))\n",
    "    avg_total_infection_rates.append(print_statistics(total_infection_rates, \"Total infection rate\", S))\n",
    "    avg_max_infection_rats.append(print_statistics(max_infection_rates, \"Max infection rate\", S))\n",
    "    avg_t_max_infs.append(print_statistics(t_max_infs, \"t max infection\", S))"
   ]
  },
  {
   "cell_type": "code",
   "execution_count": 30,
   "metadata": {},
   "outputs": [],
   "source": [
    "def print_s_plot(values, name, S_list):\n",
    "    plt.rcParams['figure.dpi'] = 300\n",
    "    plt.xlabel(\"S\")\n",
    "    plt.ylabel(name)\n",
    "    plt.plot(S_list, values)\n",
    "    plt.savefig(name + '.png', dpi=300)\n",
    "    plt.clf()"
   ]
  },
  {
   "cell_type": "code",
   "execution_count": 31,
   "metadata": {},
   "outputs": [
    {
     "name": "stdout",
     "output_type": "stream",
     "text": [
      "[0.036163400000000005, 0.014521200000000001, 0.0022314000000000006, 0.0007194, 0.0003987]\n",
      "[0.7259114999999999, 0.29185089999999997, 0.0443544, 0.014355200000000002, 0.008000000000000004]\n",
      "[0.05197920000000002, 0.026659300000000007, 0.015027200000000003, 0.0109011, 0.008000000000000004]\n"
     ]
    },
    {
     "data": {
      "text/plain": [
       "<Figure size 1800x1200 with 0 Axes>"
      ]
     },
     "metadata": {},
     "output_type": "display_data"
    }
   ],
   "source": [
    "print(avg_death_rates)\n",
    "print(avg_total_infection_rates)\n",
    "print(avg_max_infection_rats)\n",
    "\n",
    "print_s_plot(avg_death_rates, \"death rates\", S_list)\n",
    "print_s_plot(avg_total_infection_rates, \"total infection rates\", S_list)\n",
    "print_s_plot(avg_max_infection_rats, \"max infection rates\", S_list)"
   ]
  }
 ],
 "metadata": {
  "kernelspec": {
   "display_name": "Python 3",
   "language": "python",
   "name": "python3"
  },
  "language_info": {
   "codemirror_mode": {
    "name": "ipython",
    "version": 3
   },
   "file_extension": ".py",
   "mimetype": "text/x-python",
   "name": "python",
   "nbconvert_exporter": "python",
   "pygments_lexer": "ipython3",
   "version": "3.7.4"
  }
 },
 "nbformat": 4,
 "nbformat_minor": 2
}
